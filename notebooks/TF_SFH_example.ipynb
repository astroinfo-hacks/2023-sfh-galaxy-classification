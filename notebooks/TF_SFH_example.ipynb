{
 "cells": [
  {
   "cell_type": "code",
   "execution_count": 3,
   "metadata": {
    "id": "Xy2ybWXdCP2s"
   },
   "outputs": [],
   "source": [
    "import logging\n",
    "import time\n",
    "\n",
    "import numpy as np\n",
    "import matplotlib.pyplot as plt\n",
    "\n",
    "import tensorflow_datasets as tfds\n",
    "import tensorflow as tf\n",
    "\n",
    "import os\n",
    "import sys\n",
    "\n",
    "sys.path.append(\"/gpfswork/rech/owt/uwz81lo/2023-sfh-galaxy-classification\")\n",
    "\n",
    "from sfh_classif.dataset import HorizonAGN\n",
    "\n"
   ]
  },
  {
   "cell_type": "code",
   "execution_count": 4,
   "metadata": {},
   "outputs": [
    {
     "name": "stdout",
     "output_type": "stream",
     "text": [
      "2.11.0\n"
     ]
    }
   ],
   "source": [
    "\n",
    "print(tf.__version__)"
   ]
  },
  {
   "cell_type": "markdown",
   "metadata": {
    "id": "lT57RC0-CjAb"
   },
   "source": [
    "this prepares the input data to the transformer. instead of tokens, you should use the SFR values at each timestep. MAX_TOKENS is the maximum lenght of SFH."
   ]
  },
  {
   "cell_type": "code",
   "execution_count": 102,
   "metadata": {},
   "outputs": [],
   "source": [
    "def discretize(tensor, n_bins):\n",
    "    \"\"\"Discretize an array into n bins.\"\"\"\n",
    "    tensor = tensor * tf.constant(n_bins-1, dtype=tf.float32)\n",
    "    return tf.cast(tf.math.round(tensor), dtype=tf.int32)\n",
    "    "
   ]
  },
  {
   "cell_type": "code",
   "execution_count": 151,
   "metadata": {
    "id": "H-nzB9YFCVFH"
   },
   "outputs": [],
   "source": [
    "MAX_TOKENS=128\n",
    "BUFFER_SIZE = 20000\n",
    "BATCH_SIZE = 64\n",
    "\n",
    "def prepare_batch(batch):\n",
    "    \"\"\"\n",
    "    Preprocess a batch of Portuguese and English sentences for training a machine translation model.\n",
    "\n",
    "    Args:\n",
    "        pt: A tensor of Portuguese sentences of shape (batch_size,) and dtype tf.string.\n",
    "        en: A tensor of English sentences of shape (batch_size,) and dtype tf.string.\n",
    "\n",
    "    Returns:\n",
    "        A tuple of two tensors representing the input and output sequences for the model, and a tensor of shape\n",
    "        (batch_size, max_length) representing the ground truth output sequences. The input sequence tensor has shape\n",
    "        (batch_size, max_length) and dtype tf.int64, and the output sequence tensor has shape (batch_size, max_length)\n",
    "        and dtype tf.int64.\n",
    "    \"\"\"\n",
    "    #pt = tokenizers.pt.tokenize(pt)      # Output is ragged.\n",
    "    #pt = pt[:, :MAX_TOKENS]    # Trim to MAX_TOKENS.\n",
    "    #pt = pt.to_tensor()  # Convert to 0-padded dense Tensor\n",
    "    \n",
    "    cumulative_mass = batch[\"cumulative_mass\"]\n",
    "    print(cumulative_mass.shape)\n",
    "    #cumulative_mass = tf.slice(cumulative_mass, [0,0], [BATCH_SIZE,100])\n",
    "    cumulative_mass = cumulative_mass[:,::10]\n",
    "    discretize_cumulative_mass = discretize(cumulative_mass, 100)\n",
    "    #discretize_cumulative_mass = cumulative_mass\n",
    "    print(discretize_cumulative_mass)\n",
    "    \n",
    "    \n",
    "\n",
    "    #en = tokenizers.en.tokenize(en). ## replace by custome tokenizer\n",
    "    #sfh_tok = sfh_tok[:, :(MAX_TOKENS+1)]\n",
    "    sfh_inputs = discretize_cumulative_mass[:, :-1]  # Drop the [END] tokens\n",
    "    sfh_labels = discretize_cumulative_mass[:, 1:]   # Drop the [START] tokens\n",
    "\n",
    "    return sfh_inputs,sfh_labels"
   ]
  },
  {
   "cell_type": "markdown",
   "metadata": {
    "id": "NOPHuzs6DK4o"
   },
   "source": [
    "function to feed the transformer"
   ]
  },
  {
   "cell_type": "code",
   "execution_count": 152,
   "metadata": {
    "id": "tk_AC7vCC0Pu"
   },
   "outputs": [],
   "source": [
    "\n",
    "\n",
    "def make_batches(ds):\n",
    "  \"\"\"\n",
    "  This function takes a TensorFlow dataset 'ds' and processes it into batches that are ready to be fed to the model.\n",
    "\n",
    "  Parameters:\n",
    "  ds (tf.data.Dataset): TensorFlow dataset to be processed into batches\n",
    "\n",
    "  Returns:\n",
    "  tf.data.Dataset: Processed and batched TensorFlow dataset\n",
    "\n",
    "  \"\"\"\n",
    "  return (\n",
    "      ds.shuffle(BUFFER_SIZE)\n",
    "      .batch(BATCH_SIZE)\n",
    "      .map(prepare_batch, tf.data.AUTOTUNE)\n",
    "      .prefetch(buffer_size=tf.data.AUTOTUNE))"
   ]
  },
  {
   "cell_type": "code",
   "execution_count": 153,
   "metadata": {},
   "outputs": [
    {
     "name": "stdout",
     "output_type": "stream",
     "text": [
      "<PrefetchDataset element_spec={'cumulative_mass': TensorSpec(shape=(1220,), dtype=tf.float32, name=None), 'filename': TensorSpec(shape=(), dtype=tf.string, name=None), 'mass': TensorSpec(shape=(1220,), dtype=tf.float32, name=None), 'max_time': TensorSpec(shape=(), dtype=tf.int32, name=None), 'time': TensorSpec(shape=(1220,), dtype=tf.float32, name=None)}>\n"
     ]
    }
   ],
   "source": [
    "\n",
    "# Ensure tfds does not try to fetch the dataset from the internet\n",
    "os.environ['NO_GCE_CHECK'] = 'true'\n",
    "tfds.core.utils.gcs_utils._is_gcs_disabled = True\n",
    "\n",
    "_JZ_TF_DATASET_DIR = \"/gpfsscratch/rech/owt/commun/galaxy_classification/SFH_tdfs\"\n",
    "\n",
    "# The following line will either load the TensorFlow dataset if existing\n",
    "# or it will create the dataset from the _generate_examples method\n",
    "dset = tfds.load(\"HorizonAGN\", split=tfds.Split.TRAIN, data_dir=_JZ_TF_DATASET_DIR)\n",
    "\n",
    "print(dset)"
   ]
  },
  {
   "cell_type": "code",
   "execution_count": 154,
   "metadata": {},
   "outputs": [
    {
     "name": "stdout",
     "output_type": "stream",
     "text": [
      "<TakeDataset element_spec={'cumulative_mass': TensorSpec(shape=(1220,), dtype=tf.float32, name=None), 'filename': TensorSpec(shape=(), dtype=tf.string, name=None), 'mass': TensorSpec(shape=(1220,), dtype=tf.float32, name=None), 'max_time': TensorSpec(shape=(), dtype=tf.int32, name=None), 'time': TensorSpec(shape=(1220,), dtype=tf.float32, name=None)}>\n"
     ]
    }
   ],
   "source": [
    "\n",
    "dset = dset.shuffle(BUFFER_SIZE)\n",
    "# Take only the first quarter of the dataset\n",
    "dset = dset.take(5000)\n",
    "print(dset)\n"
   ]
  },
  {
   "cell_type": "code",
   "execution_count": 155,
   "metadata": {
    "id": "uBkVPT_xDNC3"
   },
   "outputs": [
    {
     "name": "stdout",
     "output_type": "stream",
     "text": [
      "(None, 1220)\n",
      "Tensor(\"Cast:0\", shape=(None, 122), dtype=int32)\n",
      "tf.Tensor(\n",
      "[[ 0  0  2 ... 99 99 99]\n",
      " [ 0  1  1 ... 99 99 99]\n",
      " [ 0  1  3 ... 99 99 99]\n",
      " ...\n",
      " [ 0  0  0 ... 99 99 99]\n",
      " [ 0  0  1 ... 99 99 99]\n",
      " [ 0  0  0 ... 99 99 99]], shape=(64, 121), dtype=int32)\n",
      "tf.Tensor(\n",
      "[[ 0  2  4 ... 99 99 99]\n",
      " [ 1  1  1 ... 99 99 99]\n",
      " [ 1  3  4 ... 99 99 99]\n",
      " ...\n",
      " [ 0  0  0 ... 99 99 99]\n",
      " [ 0  1  1 ... 99 99 99]\n",
      " [ 0  0  1 ... 99 99 99]], shape=(64, 121), dtype=int32)\n"
     ]
    }
   ],
   "source": [
    "# Create training and validation set batches.\n",
    "train_batches = make_batches(dset)\n",
    "\n",
    "for sfh_inputs, sfh_labels in train_batches.take(1):\n",
    "  break\n",
    "\n",
    "print(sfh_inputs)\n",
    "print(sfh_labels)"
   ]
  },
  {
   "cell_type": "code",
   "execution_count": 156,
   "metadata": {},
   "outputs": [
    {
     "data": {
      "text/plain": [
       "<function matplotlib.pyplot.show(close=None, block=None)>"
      ]
     },
     "execution_count": 156,
     "metadata": {},
     "output_type": "execute_result"
    },
    {
     "data": {
      "image/png": "[encoded data removed]",
      "text/plain": [
       "<Figure size 640x480 with 1 Axes>"
      ]
     },
     "metadata": {},
     "output_type": "display_data"
    }
   ],
   "source": [
    "for sfh_inputs1, sfh_labels1 in train_batches.take(100):\n",
    "  break\n",
    "\n",
    "plt.plot(sfh_inputs1[37].numpy())\n",
    "plt.plot(sfh_labels1[37].numpy())\n",
    "plt.show"
   ]
  },
  {
   "cell_type": "markdown",
   "metadata": {
    "id": "_r6a_ziEDfbM"
   },
   "source": [
    "positional encoding"
   ]
  },
  {
   "cell_type": "code",
   "execution_count": 157,
   "metadata": {
    "id": "Y3dDRpk6DZF-"
   },
   "outputs": [],
   "source": [
    "def positional_encoding(length, depth):\n",
    "  \"\"\"\n",
    "  Generates a matrix of position encodings for an input sequence.\n",
    "\n",
    "  Args:\n",
    "      length: An integer representing the length of the input sequence.\n",
    "      depth: An integer representing the dimensionality of the encoding.\n",
    "\n",
    "  Returns:\n",
    "      A `tf.Tensor` of shape `(length, depth)` representing the position encoding matrix.\n",
    "  \"\"\"\n",
    "  depth = depth/2\n",
    "\n",
    "  positions = np.arange(length)[:, np.newaxis]     # (seq, 1)\n",
    "  depths = np.arange(depth)[np.newaxis, :]/depth   # (1, depth)\n",
    "\n",
    "  angle_rates = 1 / (10000**depths)         # (1, depth)\n",
    "  angle_rads = positions * angle_rates      # (pos, depth)\n",
    "\n",
    "  pos_encoding = np.concatenate(\n",
    "      [np.sin(angle_rads), np.cos(angle_rads)],\n",
    "      axis=-1)\n",
    "\n",
    "  return tf.cast(pos_encoding, dtype=tf.float32)"
   ]
  },
  {
   "cell_type": "code",
   "execution_count": 158,
   "metadata": {
    "id": "uPjm34LdDjin"
   },
   "outputs": [
    {
     "name": "stdout",
     "output_type": "stream",
     "text": [
      "(2048, 128)\n"
     ]
    },
    {
     "data": {
      "image/png": "[encoded data removed]",
      "text/plain": [
       "<Figure size 640x480 with 2 Axes>"
      ]
     },
     "metadata": {},
     "output_type": "display_data"
    }
   ],
   "source": [
    "#@title\n",
    "pos_encoding = positional_encoding(length=2048, depth=128)\n",
    "\n",
    "# Check the shape.\n",
    "print(pos_encoding.shape)\n",
    "\n",
    "# Plot the dimensions.\n",
    "plt.pcolormesh(pos_encoding.numpy().T, cmap='RdBu')\n",
    "plt.ylabel('Depth')\n",
    "plt.xlabel('Position')\n",
    "plt.colorbar()\n",
    "plt.show()"
   ]
  },
  {
   "cell_type": "code",
   "execution_count": 159,
   "metadata": {
    "id": "ion2NVtVGQaV"
   },
   "outputs": [],
   "source": [
    "class PositionalEmbedding(tf.keras.layers.Layer):\n",
    "  \"\"\"\n",
    "  This layer combines the input embedding with a positional encoding that helps the Transformer to understand\n",
    "  the relative position of the tokens in a sequence. It takes an input sequence of tokens and converts it to\n",
    "  a sequence of embedding vectors, then adds positional information to it.\n",
    "\n",
    "  Attributes:\n",
    "      vocab_size (int): The size of the vocabulary, i.e., the number of unique tokens in the input sequence.\n",
    "      d_model (int): The number of dimensions in the embedding vector.\n",
    "\n",
    "  Methods:\n",
    "      compute_mask(*args, **kwargs): This method computes the mask to be applied to the embeddings.\n",
    "      call(x): This method performs the computation for the layer.\n",
    "\n",
    "  \"\"\"\n",
    "  def __init__(self, vocab_size, d_model):\n",
    "    \"\"\"\n",
    "    Initializes the PositionalEmbedding layer.\n",
    "\n",
    "    Args:\n",
    "        vocab_size (int): The size of the vocabulary, i.e., the number of unique tokens in the input sequence.\n",
    "        d_model (int): The number of dimensions in the embedding vector.\n",
    "    \"\"\"\n",
    "    super().__init__()\n",
    "    self.d_model = d_model\n",
    "    self.embedding = tf.keras.layers.Embedding(vocab_size, d_model, mask_zero=True)\n",
    "    self.pos_encoding = positional_encoding(length=2048, depth=d_model)\n",
    "\n",
    "  def compute_mask(self, *args, **kwargs):\n",
    "    \"\"\"\n",
    "    Computes the mask to be applied to the embeddings.\n",
    "\n",
    "    Args:\n",
    "        *args: Variable length argument list.\n",
    "        **kwargs: Arbitrary keyword arguments.\n",
    "\n",
    "    Returns:\n",
    "        Mask to be applied to the embeddings.\n",
    "    \"\"\"\n",
    "    return self.embedding.compute_mask(*args, **kwargs)\n",
    "\n",
    "  def call(self, x):\n",
    "    \"\"\"\n",
    "    Computes the output of the layer.\n",
    "\n",
    "    Args:\n",
    "        x (tf.Tensor): Input sequence of tokens.\n",
    "\n",
    "    Returns:\n",
    "        The output sequence of embedding vectors with added positional information.\n",
    "    \"\"\"\n",
    "    length = tf.shape(x)[1]\n",
    "    x = self.embedding(x)\n",
    "    # This factor sets the relative scale of the embedding and positonal_encoding.\n",
    "    x *= tf.math.sqrt(tf.cast(self.d_model, tf.float32))\n",
    "    x = x + self.pos_encoding[tf.newaxis, :length, :]\n",
    "    return x\n"
   ]
  },
  {
   "cell_type": "code",
   "execution_count": 160,
   "metadata": {},
   "outputs": [
    {
     "name": "stdout",
     "output_type": "stream",
     "text": [
      "(64, 121, 128)\n"
     ]
    }
   ],
   "source": [
    "embed_pt = PositionalEmbedding(vocab_size=100, d_model=128)\n",
    "\n",
    "pt_emb = embed_pt(sfh_inputs)\n",
    "\n",
    "print(pt_emb.shape)"
   ]
  },
  {
   "cell_type": "code",
   "execution_count": 161,
   "metadata": {
    "id": "fqFGukQkGYf1"
   },
   "outputs": [],
   "source": [
    "class BaseAttention(tf.keras.layers.Layer):\n",
    "  \"\"\"\n",
    "  Base Attention layer class that contains a MultiHeadAttention, LayerNormalization and Add layer.\n",
    "\n",
    "  Attributes:\n",
    "  -----------\n",
    "  kwargs: dict\n",
    "      keyword arguments that will be passed to the MultiHeadAttention layer during initialization.\n",
    "\n",
    "  Methods:\n",
    "  --------\n",
    "  call(inputs, mask=None, training=None):\n",
    "      Performs a forward pass on the input and returns the output.\n",
    "\n",
    "  \"\"\"\n",
    "  def __init__(self, **kwargs):\n",
    "    \"\"\"\n",
    "    Initializes a new instance of the BaseAttention layer class.\n",
    "\n",
    "    Parameters:\n",
    "    -----------\n",
    "    kwargs: dict\n",
    "        keyword arguments that will be passed to the MultiHeadAttention layer during initialization.\n",
    "    \"\"\"\n",
    "    super().__init__()\n",
    "    self.mha = tf.keras.layers.MultiHeadAttention(**kwargs)\n",
    "    self.layernorm = tf.keras.layers.LayerNormalization()\n",
    "    self.add = tf.keras.layers.Add()"
   ]
  },
  {
   "cell_type": "code",
   "execution_count": 162,
   "metadata": {
    "id": "ENI92FCLGw5A"
   },
   "outputs": [],
   "source": [
    "class GlobalSelfAttention(BaseAttention):\n",
    "  def call(self, x):\n",
    "    \"\"\"\n",
    "    Apply the global self-attention mechanism to the input sequence.\n",
    "\n",
    "    Args:\n",
    "        x: A tensor of shape `(batch_size, seq_len, embedding_dim)`\n",
    "        representing the input sequence.\n",
    "\n",
    "    Returns:\n",
    "        A tensor of the same shape as the input, representing the sequence\n",
    "        after being transformed by the self-attention mechanism.\n",
    "    \"\"\"\n",
    "    attn_output = self.mha(\n",
    "        query=x,\n",
    "        value=x,\n",
    "        key=x)\n",
    "    x = self.add([x, attn_output])\n",
    "    x = self.layernorm(x)\n",
    "    return x"
   ]
  },
  {
   "cell_type": "code",
   "execution_count": 163,
   "metadata": {
    "id": "YsrO4tE4HA5Y"
   },
   "outputs": [],
   "source": [
    "class CausalSelfAttention(BaseAttention):\n",
    "  \"\"\"\n",
    "  Call self attention on the input sequence, ensuring that each position in the\n",
    "  output depends only on previous positions (i.e. a causal model).\n",
    "\n",
    "  Args:\n",
    "      x: Input sequence tensor of shape `(batch_size, seq_len, embed_dim)`.\n",
    "\n",
    "  Returns:\n",
    "      Output sequence tensor of the same shape as the input, after self-attention\n",
    "      and residual connection with layer normalization applied.\n",
    "  \"\"\"\n",
    "  def call(self, x):\n",
    "    attn_output, attn_scores = self.mha(\n",
    "        query=x,\n",
    "        value=x,\n",
    "        key=x,\n",
    "        use_causal_mask = True,\n",
    "    return_attention_scores=True)\n",
    "    self.last_attn_scores = attn_scores\n",
    "    x = self.add([x, attn_output])\n",
    "    x = self.layernorm(x)\n",
    "    return x"
   ]
  },
  {
   "cell_type": "markdown",
   "metadata": {
    "id": "58SORW4HHapL"
   },
   "source": [
    "checking"
   ]
  },
  {
   "cell_type": "code",
   "execution_count": 164,
   "metadata": {
    "id": "9vAsstcOHT-9"
   },
   "outputs": [
    {
     "name": "stdout",
     "output_type": "stream",
     "text": [
      "(64, 121, 128)\n"
     ]
    },
    {
     "data": {
      "text/plain": [
       "0.5391184"
      ]
     },
     "execution_count": 164,
     "metadata": {},
     "output_type": "execute_result"
    }
   ],
   "source": [
    "sample_csa = CausalSelfAttention(num_heads=2, key_dim=128)\n",
    "\n",
    "print(pt_emb.shape)\n",
    "\n",
    "out1 = sample_csa(embed_pt(sfh_inputs[:, :3]))\n",
    "out2 = sample_csa(embed_pt(sfh_inputs))[:, :3]\n",
    "\n",
    "tf.reduce_max(abs(out1 - out2)).numpy()"
   ]
  },
  {
   "cell_type": "code",
   "execution_count": 165,
   "metadata": {
    "id": "LCZ_3CmiHcdf"
   },
   "outputs": [],
   "source": [
    "class FeedForward(tf.keras.layers.Layer):\n",
    "  \"\"\"\n",
    "  Implements the feedforward sublayer of the transformer block.\n",
    "\n",
    "  Parameters:\n",
    "  -----------\n",
    "  d_model: int\n",
    "      The number of expected features in the input and output.\n",
    "  dff: int\n",
    "      The number of neurons in the first Dense layer.\n",
    "  dropout_rate: float, optional (default=0.1)\n",
    "      The dropout rate to use.\n",
    "\n",
    "  Attributes:\n",
    "  -----------\n",
    "  seq: tf.keras.Sequential\n",
    "      The sequential model that applies the two Dense layers and Dropout.\n",
    "  add: tf.keras.layers.Add\n",
    "      The addition layer that adds the residual connection.\n",
    "  layer_norm: tf.keras.layers.LayerNormalization\n",
    "      The normalization layer applied to the output.\n",
    "\n",
    "  Methods:\n",
    "  --------\n",
    "  call(x):\n",
    "      Computes the feedforward sublayer on the input tensor x and returns the output.\n",
    "\n",
    "  \"\"\"\n",
    "  def __init__(self, d_model, dff, dropout_rate=0.1):\n",
    "    super().__init__()\n",
    "    self.seq = tf.keras.Sequential([\n",
    "      tf.keras.layers.Dense(dff, activation='relu'),\n",
    "      tf.keras.layers.Dense(d_model),\n",
    "      tf.keras.layers.Dropout(dropout_rate)\n",
    "    ])\n",
    "    self.add = tf.keras.layers.Add()\n",
    "    self.layer_norm = tf.keras.layers.LayerNormalization()\n",
    "\n",
    "  def call(self, x):\n",
    "    \"\"\"\n",
    "    Passes the input tensor `x` through a feedforward network consisting of two\n",
    "    dense layers with `dff` hidden units and a `relu` activation function.\n",
    "    A `dropout_rate` is applied after the first dense layer to prevent overfitting.\n",
    "    The output of the feedforward network is added to the original input `x` via the\n",
    "    `Add()` layer. Finally, the output is normalized using the `LayerNormalization()` layer.\n",
    "\n",
    "    Args:\n",
    "        x (tf.Tensor): Input tensor with shape `(batch_size, seq_len, d_model)`.\n",
    "\n",
    "    Returns:\n",
    "        tf.Tensor: Output tensor with shape `(batch_size, seq_len, d_model)`.\n",
    "    \"\"\"\n",
    "    x = self.add([x, self.seq(x)])\n",
    "    x = self.layer_norm(x)\n",
    "    return x\n"
   ]
  },
  {
   "cell_type": "code",
   "execution_count": 166,
   "metadata": {},
   "outputs": [
    {
     "name": "stdout",
     "output_type": "stream",
     "text": [
      "(64, 121, 128)\n",
      "(64, 121, 128)\n"
     ]
    }
   ],
   "source": [
    "sample_ffn = FeedForward(128, 2048)\n",
    "\n",
    "print(pt_emb.shape)\n",
    "print(sample_ffn(pt_emb).shape)"
   ]
  },
  {
   "cell_type": "code",
   "execution_count": 167,
   "metadata": {
    "id": "GFlWA0-XHnEM"
   },
   "outputs": [],
   "source": [
    "class DecoderLayer(tf.keras.layers.Layer):\n",
    "  \"\"\"\n",
    "  A single layer of the decoder in a transformer-based architecture.\n",
    "\n",
    "  Args:\n",
    "    d_model (int): The number of expected features in the input.\n",
    "    num_heads (int): The number of attention heads.\n",
    "    dff (int): The dimensionality of the feedforward network.\n",
    "    dropout_rate (float): The dropout rate to be applied.\n",
    "\n",
    "  Attributes:\n",
    "    causal_self_attention: An instance of the `CausalSelfAttention` layer.\n",
    "    cross_attention: An instance of the `CrossAttention` layer.\n",
    "    ffn: An instance of the `FeedForward` layer.\n",
    "    last_attn_scores: A tensor containing the last attention scores.\n",
    "\n",
    "  \"\"\"\n",
    "  def __init__(self,\n",
    "               *,\n",
    "               d_model,\n",
    "               num_heads,\n",
    "               dff,\n",
    "               dropout_rate=0.1):\n",
    "    super(DecoderLayer, self).__init__()\n",
    "\n",
    "    self.causal_self_attention = CausalSelfAttention(\n",
    "        num_heads=num_heads,\n",
    "        key_dim=d_model,\n",
    "        dropout=dropout_rate)\n",
    "\n",
    "    self.ffn = FeedForward(d_model, dff)\n",
    "\n",
    "  def call(self, x):\n",
    "    \"\"\"\n",
    "    Forward pass of the `DecoderLayer`.\n",
    "\n",
    "    Args:\n",
    "      x (tf.Tensor): The input tensor of shape\n",
    "      `(batch_size, target_seq_len, d_model)`.\n",
    "      context (tf.Tensor): The context tensor of shape\n",
    "      `(batch_size, input_seq_len, d_model)`.\n",
    "\n",
    "    Returns:\n",
    "      The output tensor of the `DecoderLayer` of shape\n",
    "      `(batch_size, target_seq_len, d_model)`.\n",
    "\n",
    "    \"\"\"\n",
    "    x = self.causal_self_attention(x=x)\n",
    "\n",
    "    # Cache the last attention scores for plotting later\n",
    "    self.last_attn_scores = self.causal_self_attention.last_attn_scores\n",
    "\n",
    "    x = self.ffn(x)  # Shape `(batch_size, seq_len, d_model)`.\n",
    "    return x"
   ]
  },
  {
   "cell_type": "code",
   "execution_count": 168,
   "metadata": {
    "id": "L9j5QyPNH4Me"
   },
   "outputs": [],
   "source": [
    "class Decoder(tf.keras.layers.Layer):\n",
    "  \"\"\"A decoder model for sequence to sequence learning.\n",
    "\n",
    "  This class implements a decoder layer for a transformer-based model used for sequence to sequence learning tasks. The decoder layer takes input embeddings, positional encodings, and attention masks as input, and returns the output of the decoder layer after applying a multi-head self-attention mechanism, followed by a cross-attention mechanism with the output from the encoder layers, and then applying a feed-forward neural network.\n",
    "\n",
    "  Attributes:\n",
    "    d_model (int): The number of output dimensions for each layer.\n",
    "    num_layers (int): The number of layers in the decoder.\n",
    "    pos_embedding (PositionalEmbedding): The positional embedding layer.\n",
    "    dropout (Dropout): A dropout layer.\n",
    "    dec_layers (list): A list of DecoderLayer objects.\n",
    "    last_attn_scores (ndarray): The attention scores from the last decoder layer.\n",
    "\n",
    "  Methods:\n",
    "    call(x, context): Implements the forward pass for the decoder layer.\n",
    "      Args:\n",
    "        x (ndarray): A tensor of shape (batch_size, target_seq_len), representing the input token IDs.\n",
    "        context (ndarray): A tensor of shape (batch_size, input_seq_len, d_model), representing the output from the encoder layers.\n",
    "      Returns:\n",
    "        ndarray: A tensor of shape (batch_size, target_seq_len, d_model), representing the output from the decoder layers.\n",
    "  \"\"\"\n",
    "  def __init__(self, *, num_layers, d_model, num_heads, dff, vocab_size,\n",
    "               dropout_rate=0.1):\n",
    "    super(Decoder, self).__init__()\n",
    "\n",
    "    self.d_model = d_model\n",
    "    self.num_layers = num_layers\n",
    "\n",
    "    self.pos_embedding = PositionalEmbedding(vocab_size=vocab_size,\n",
    "                                             d_model=d_model)\n",
    "    self.dropout = tf.keras.layers.Dropout(dropout_rate)\n",
    "    self.dec_layers = [\n",
    "        DecoderLayer(d_model=d_model, num_heads=num_heads,\n",
    "                     dff=dff, dropout_rate=dropout_rate)\n",
    "        for _ in range(num_layers)]\n",
    "\n",
    "    self.last_attn_scores = None\n",
    "\n",
    "  def call(self, x):\n",
    "    \"\"\"\n",
    "    Implements the forward pass for the decoder layer.\n",
    "\n",
    "    Args:\n",
    "      x (ndarray): A tensor of shape (batch_size, target_seq_len), representing the input token IDs.\n",
    "      context (ndarray): A tensor of shape (batch_size, input_seq_len, d_model), representing the output from the encoder layers.\n",
    "\n",
    "    Returns:\n",
    "      ndarray: A tensor of shape (batch_size, target_seq_len, d_model), representing the output from the decoder layers.\n",
    "    \"\"\"\n",
    "    # `x` is token-IDs shape (batch, target_seq_len)\n",
    "    x = self.pos_embedding(x)  # (batch_size, target_seq_len, d_model)\n",
    "\n",
    "    x = self.dropout(x)\n",
    "\n",
    "    for i in range(self.num_layers):\n",
    "      x  = self.dec_layers[i](x)\n",
    "\n",
    "    self.last_attn_scores = self.dec_layers[-1].last_attn_scores\n",
    "\n",
    "    # The shape of x is (batch_size, target_seq_len, d_model).\n",
    "    return x"
   ]
  },
  {
   "cell_type": "code",
   "execution_count": 169,
   "metadata": {
    "id": "DWzsFqNgIMWp"
   },
   "outputs": [],
   "source": [
    "# Instantiate the decoder.\n",
    "sample_decoder = Decoder(num_layers=1,\n",
    "                         d_model=128,\n",
    "                         num_heads=2,\n",
    "                         dff=2048,\n",
    "                         vocab_size=100)\n",
    "\n",
    "output = sample_decoder(\n",
    "    x=sfh_inputs)\n",
    "\n",
    "# Print the shapes.\n",
    "#print(en.shape)\n",
    "#print(pt_emb.shape)\n",
    "#print(output.shape)"
   ]
  },
  {
   "cell_type": "code",
   "execution_count": 170,
   "metadata": {
    "id": "flmHgGz8IUFW"
   },
   "outputs": [],
   "source": [
    "class Transformer(tf.keras.Model):\n",
    "  \"\"\"\n",
    "  A transformer model that consists of an encoder, a decoder and a final dense layer.\n",
    "\n",
    "  Args:\n",
    "    num_layers (int): Number of layers in both the encoder and decoder.\n",
    "    d_model (int): Hidden size of the model.\n",
    "    num_heads (int): Number of attention heads used in the model.\n",
    "    dff (int): Size of the feedforward layer in the encoder and decoder.\n",
    "    input_vocab_size (int): Size of the vocabulary of the input.\n",
    "    target_vocab_size (int): Size of the vocabulary of the target.\n",
    "    dropout_rate (float): Dropout rate applied to the output of each sub-layer.\n",
    "\n",
    "  Attributes:\n",
    "    encoder (Encoder): An instance of the Encoder class.\n",
    "    decoder (Decoder): An instance of the Decoder class.\n",
    "    final_layer (Dense): A Dense layer that converts the final transformer output to output token probabilities.\n",
    "\n",
    "  Methods:\n",
    "    call(inputs): Forward pass of the transformer model.\n",
    "\n",
    "  Returns:\n",
    "    logits (tf.Tensor): Output tensor of the final dense layer. Shape (batch_size, target_len, target_vocab_size).\n",
    "  \"\"\"\n",
    "  def __init__(self, *, num_layers, d_model, num_heads, dff,\n",
    "               input_vocab_size, target_vocab_size, dropout_rate=0.1):\n",
    "    super().__init__()\n",
    "\n",
    "    self.decoder = Decoder(num_layers=num_layers, d_model=d_model,\n",
    "                           num_heads=num_heads, dff=dff,\n",
    "                           vocab_size=target_vocab_size,\n",
    "                           dropout_rate=dropout_rate)\n",
    "\n",
    "    self.final_layer = tf.keras.layers.Dense(target_vocab_size)\n",
    "\n",
    "  def call(self, inputs):\n",
    "    \"\"\"\n",
    "    Forward pass of the transformer model.\n",
    "\n",
    "    Args:\n",
    "      inputs (tuple): A tuple of two tensors. The first tensor is the context input tensor of shape (batch_size, context_len).\n",
    "                      The second tensor is the target input tensor of shape (batch_size, target_len).\n",
    "\n",
    "    Returns:\n",
    "      logits (tf.Tensor): Output tensor of the final dense layer. Shape (batch_size, target_len, target_vocab_size).\n",
    "    \"\"\"\n",
    "\n",
    "    # To use a Keras model with `.fit` you must pass all your inputs in the\n",
    "    # first argument.\n",
    "    x  = inputs\n",
    "\n",
    "    #context = self.encoder(context)  # (batch_size, context_len, d_model)\n",
    "\n",
    "    x = self.decoder(x)  # (batch_size, target_len, d_model)\n",
    "\n",
    "    # Final linear layer output.\n",
    "    logits = self.final_layer(x)  # (batch_size, target_len, target_vocab_size)\n",
    "\n",
    "    try:\n",
    "      # Drop the keras mask, so it doesn't scale the losses/metrics.\n",
    "      # b/250038731\n",
    "      del logits._keras_mask\n",
    "    except AttributeError:\n",
    "      pass\n",
    "\n",
    "    # Return the final output and the attention weights.\n",
    "    return logits"
   ]
  },
  {
   "cell_type": "code",
   "execution_count": 409,
   "metadata": {
    "id": "gImmN6hEIgo9"
   },
   "outputs": [],
   "source": [
    "num_layers = 10\n",
    "d_model = 512\n",
    "dff = 512\n",
    "num_heads = 4\n",
    "dropout_rate = 0.5"
   ]
  },
  {
   "cell_type": "code",
   "execution_count": 410,
   "metadata": {
    "id": "N-ha2MJmIjxn"
   },
   "outputs": [],
   "source": [
    "transformer = Transformer(\n",
    "    num_layers=num_layers,\n",
    "    d_model=d_model,\n",
    "    num_heads=num_heads,\n",
    "    dff=dff,\n",
    "    input_vocab_size=100,\n",
    "    target_vocab_size=100,\n",
    "    dropout_rate=dropout_rate)"
   ]
  },
  {
   "cell_type": "code",
   "execution_count": 411,
   "metadata": {
    "id": "HO3PCHcHInXP"
   },
   "outputs": [],
   "source": [
    "#transformer.summary()"
   ]
  },
  {
   "cell_type": "code",
   "execution_count": 412,
   "metadata": {},
   "outputs": [],
   "source": [
    "output = transformer((sfh_inputs))\n",
    "\n"
   ]
  },
  {
   "cell_type": "code",
   "execution_count": 413,
   "metadata": {
    "id": "ZBytL287IsRl"
   },
   "outputs": [],
   "source": [
    "class CustomSchedule(tf.keras.optimizers.schedules.LearningRateSchedule):\n",
    "  \"\"\"\n",
    "  Custom learning rate schedule that implements the learning rate function\n",
    "  described in the original Transformer paper. The learning rate is increased\n",
    "  linearly for the first `warmup_steps` training steps, and then decreased\n",
    "  proportionally to the inverse square root of the step number.\n",
    "\n",
    "  Args:\n",
    "    d_model (int): the dimensionality of the model.\n",
    "    warmup_steps (int): the number of steps taken to increase the learning rate\n",
    "      linearly. Default is 4000.\n",
    "\n",
    "  Attributes:\n",
    "    d_model (float): the dimensionality of the model as a float.\n",
    "    warmup_steps (int): the number of steps taken to increase the learning rate\n",
    "      linearly.\n",
    "\n",
    "  Methods:\n",
    "    __call__(step): returns the learning rate at the given step.\n",
    "\n",
    "  Returns:\n",
    "    The learning rate at the given step.\n",
    "  \"\"\"\n",
    "  def __init__(self, d_model, warmup_steps=4000):\n",
    "    super().__init__()\n",
    "\n",
    "    self.d_model = d_model\n",
    "    self.d_model = tf.cast(self.d_model, tf.float32)\n",
    "\n",
    "    self.warmup_steps = warmup_steps\n",
    "\n",
    "  def __call__(self, step):\n",
    "    \"\"\"\n",
    "    Returns the learning rate at the given step.\n",
    "\n",
    "    Args:\n",
    "      step (int): the current training step.\n",
    "\n",
    "    Returns:\n",
    "      The learning rate at the given step as a float32 tensor.\n",
    "    \"\"\"\n",
    "    step = tf.cast(step, dtype=tf.float32)\n",
    "    arg1 = tf.math.rsqrt(step)\n",
    "    arg2 = step * (self.warmup_steps ** -1.5)\n",
    "\n",
    "    return tf.math.rsqrt(self.d_model) * tf.math.minimum(arg1, arg2)"
   ]
  },
  {
   "cell_type": "code",
   "execution_count": 414,
   "metadata": {
    "id": "BlicjSDzIsv5"
   },
   "outputs": [],
   "source": [
    "learning_rate = CustomSchedule(d_model)\n",
    "\n",
    "optimizer = tf.keras.optimizers.Adam(learning_rate, beta_1=0.9, beta_2=0.98,\n",
    "                                     epsilon=1e-9)"
   ]
  },
  {
   "cell_type": "code",
   "execution_count": 415,
   "metadata": {
    "id": "oeCXNP-hIvC8"
   },
   "outputs": [],
   "source": [
    "def masked_loss(label, pred):\n",
    "  \"\"\"\n",
    "  Calculates the masked sparse categorical cross-entropy loss between the true labels and predicted labels.\n",
    "\n",
    "  Args:\n",
    "      label: A tensor of shape (batch_size, seq_length) containing the true labels.\n",
    "      pred: A tensor of shape (batch_size, seq_length, target_vocab_size) containing the predicted labels.\n",
    "\n",
    "  Returns:\n",
    "      A scalar tensor representing the masked loss value.\n",
    "\n",
    "  \"\"\"\n",
    "  mask = label < 0\n",
    "  loss_object = tf.keras.losses.SparseCategoricalCrossentropy(\n",
    "    from_logits=True, reduction='none')\n",
    "  loss = loss_object(label, pred)\n",
    "\n",
    "  mask = tf.cast(mask, dtype=loss.dtype)\n",
    "  #loss *= mask\n",
    "\n",
    "  loss = tf.reduce_sum(loss)#/tf.reduce_sum(mask)\n",
    "  return loss"
   ]
  },
  {
   "cell_type": "code",
   "execution_count": 416,
   "metadata": {
    "id": "VfrjqxP7I-5q"
   },
   "outputs": [],
   "source": [
    "def masked_accuracy(label, pred):\n",
    "  \"\"\"\n",
    "  Calculates the masked accuracy between the true labels and predicted labels.\n",
    "\n",
    "  Args:\n",
    "      label: A tensor of shape (batch_size, seq_length) containing the true labels.\n",
    "      pred: A tensor of shape (batch_size, seq_length, target_vocab_size) containing the predicted labels.\n",
    "\n",
    "  Returns:\n",
    "      A scalar tensor representing the masked accuracy value.\n",
    "\n",
    "  \"\"\"\n",
    "  pred = tf.argmax(pred, axis=2)\n",
    "  label = tf.cast(label, pred.dtype)\n",
    "  match = label == pred\n",
    "\n",
    "  mask = label < 0\n",
    "\n",
    "  #match = match & mask\n",
    "\n",
    "  match = tf.cast(match, dtype=tf.float32)\n",
    "  mask = tf.cast(mask, dtype=tf.float32)\n",
    "  return tf.reduce_sum(match)#/tf.reduce_sum(mask)"
   ]
  },
  {
   "cell_type": "code",
   "execution_count": 417,
   "metadata": {
    "id": "UMkzTRd9I_dP"
   },
   "outputs": [],
   "source": [
    "transformer.compile(\n",
    "    loss=masked_loss,\n",
    "    optimizer=optimizer,\n",
    "    metrics=[masked_accuracy])"
   ]
  },
  {
   "cell_type": "code",
   "execution_count": 418,
   "metadata": {},
   "outputs": [
    {
     "name": "stdout",
     "output_type": "stream",
     "text": [
      "Model: \"transformer_5\"\n",
      "_________________________________________________________________\n",
      " Layer (type)                Output Shape              Param #   \n",
      "=================================================================\n",
      " decoder_8 (Decoder)         multiple                  47334400  \n",
      "                                                                 \n",
      " dense_73 (Dense)            multiple                  51300     \n",
      "                                                                 \n",
      "=================================================================\n",
      "Total params: 47,385,700\n",
      "Trainable params: 47,385,700\n",
      "Non-trainable params: 0\n",
      "_________________________________________________________________\n"
     ]
    }
   ],
   "source": [
    "transformer.summary()"
   ]
  },
  {
   "cell_type": "code",
   "execution_count": 419,
   "metadata": {},
   "outputs": [
    {
     "name": "stdout",
     "output_type": "stream",
     "text": [
      "(64, 121)\n"
     ]
    }
   ],
   "source": [
    "transformer.decoder(sfh_inputs)\n",
    "print(sfh_inputs.shape)"
   ]
  },
  {
   "cell_type": "code",
   "execution_count": 420,
   "metadata": {},
   "outputs": [
    {
     "name": "stdout",
     "output_type": "stream",
     "text": [
      "<PrefetchDataset element_spec=(TensorSpec(shape=(None, 121), dtype=tf.int32, name=None), TensorSpec(shape=(None, 121), dtype=tf.int32, name=None))>\n"
     ]
    }
   ],
   "source": [
    "print(train_batches)"
   ]
  },
  {
   "cell_type": "code",
   "execution_count": 421,
   "metadata": {
    "id": "nZHdmO1EJBhu"
   },
   "outputs": [
    {
     "name": "stdout",
     "output_type": "stream",
     "text": [
      "Epoch 1/10\n",
      "79/79 [==============================] - 55s 278ms/step - loss: 17958.0586 - masked_accuracy: 4562.0635\n",
      "Epoch 2/10\n",
      "79/79 [==============================] - 23s 280ms/step - loss: 8253.3105 - masked_accuracy: 5943.7217\n",
      "Epoch 3/10\n",
      "79/79 [==============================] - 23s 279ms/step - loss: 6532.0864 - masked_accuracy: 6067.1392\n",
      "Epoch 4/10\n",
      "79/79 [==============================] - 23s 280ms/step - loss: 4942.9800 - masked_accuracy: 6223.3545\n",
      "Epoch 5/10\n",
      "79/79 [==============================] - 23s 280ms/step - loss: 4094.2087 - masked_accuracy: 6278.6963\n",
      "Epoch 6/10\n",
      "79/79 [==============================] - 23s 280ms/step - loss: 3671.0381 - masked_accuracy: 6341.3291\n",
      "Epoch 7/10\n",
      "79/79 [==============================] - 23s 280ms/step - loss: 3455.4109 - masked_accuracy: 6375.8101\n",
      "Epoch 8/10\n",
      "79/79 [==============================] - 23s 280ms/step - loss: 3279.1465 - masked_accuracy: 6420.8354\n",
      "Epoch 9/10\n",
      "79/79 [==============================] - 23s 281ms/step - loss: 3207.4578 - masked_accuracy: 6439.2280\n",
      "Epoch 10/10\n",
      "79/79 [==============================] - 23s 280ms/step - loss: 3119.5383 - masked_accuracy: 6465.1265\n"
     ]
    },
    {
     "data": {
      "text/plain": [
       "<keras.callbacks.History at 0x14e6c3fc2a10>"
      ]
     },
     "execution_count": 421,
     "metadata": {},
     "output_type": "execute_result"
    }
   ],
   "source": [
    "transformer.fit(train_batches,\n",
    "                epochs=10)"
   ]
  },
  {
   "cell_type": "code",
   "execution_count": 422,
   "metadata": {},
   "outputs": [],
   "source": [
    "class Translator(tf.Module):\n",
    "    \"\"\"A translator that uses a transformer model to translate \n",
    "    sentences from Portuguese to English.\n",
    "\n",
    "    Attributes:\n",
    "      tokenizers (dict): A dictionary of tokenizers for the \n",
    "      Portuguese and English languages.\n",
    "      transformer (tf.keras.Model): A transformer model that can \n",
    "      be used for sequence-to-sequence translation.\n",
    "    \"\"\"\n",
    "    def __init__(self, transformer, seq_init):\n",
    "        self.transformer = transformer\n",
    "        self.seq_init = seq_init\n",
    "        \n",
    "\n",
    "    def __call__(self, max_length=MAX_TOKENS):\n",
    "        \"\"\"Translates a sentence from Portuguese to English.\n",
    "\n",
    "        Args:\n",
    "            sentence (str): The sentence to be translated.\n",
    "            max_length (int): The maximum number of tokens in the output sentence.\n",
    "\n",
    "        Returns:\n",
    "            tuple: A tuple containing the translated text, the tokens of the translated text,\n",
    "                and the attention weights of the transformer model.\n",
    "        \"\"\"\n",
    "\n",
    "\n",
    "        # `tf.TensorArray` is required here (instead of a Python list), so that the\n",
    "        # dynamic-loop can be traced by `tf.function`.\n",
    "        output_array = tf.TensorArray(dtype=tf.int64, size=0, dynamic_size=True)\n",
    "        print(self.seq_init.shape)\n",
    "        for k in range(tf.shape(self.seq_init)[0]): \n",
    "            #output_array = output_array.write(k, tf.cast(self.seq_init[k], dtype=tf.int64))\n",
    "            output_array = output_array.write(k, tf.constant(tf.cast(self.seq_init[k],dtype=tf.int64), shape=(1,), dtype=tf.int64))\n",
    "\n",
    "\n",
    "        \n",
    "\n",
    "        for i in tf.range(tf.shape(self.seq_init)[0],121):\n",
    "            \n",
    "            output = tf.transpose(output_array.stack())\n",
    "            #output = tf.expand_dims(output, -1)\n",
    "            #print(output.shape)\n",
    "\n",
    "            predictions = self.transformer(output, training=False)\n",
    "\n",
    "            # Select the last token from the `seq_len` dimension.\n",
    "            predictions = predictions[:, -1:, :]  # Shape `(batch_size, 1, vocab_size)`.\n",
    "\n",
    "            predicted_id = tf.argmax(predictions, axis=-1)\n",
    "            \n",
    "            #predicted_id = tf.squeeze(predicted_id)  # Squeeze unnecessary dimensions\n",
    "\n",
    "            \n",
    "            #print(f\"pred id = {predicted_id}\")\n",
    "\n",
    "            # Concatenate the `predicted_id` to the output which is given to the\n",
    "            # decoder as its input.\n",
    "            #output_array = output_array.write(i+1, predicted_id[0])\n",
    " \n",
    "            output_array = output_array.write(i, predicted_id[0])\n",
    "        \n",
    "\n",
    "\n",
    "            output = tf.transpose(output_array.stack())\n",
    "            \n",
    "            #print(f\"output : {output}\")\n",
    "            \n",
    "            \n",
    "            if predicted_id == 99:\n",
    "                break\n",
    "\n",
    "        self.transformer( output[:,:-1], training=False)\n",
    "        attention_weights = self.transformer.decoder.last_attn_scores\n",
    "        \n",
    "        print(output)\n",
    "\n",
    "        return output, attention_weights "
   ]
  },
  {
   "cell_type": "code",
   "execution_count": 428,
   "metadata": {},
   "outputs": [
    {
     "name": "stdout",
     "output_type": "stream",
     "text": [
      "tf.Tensor(\n",
      "[ 0  0  1  1  2  3  4  5  7  9 11 15 19 22 26 31 35 39 43 47 50 55 57 61\n",
      " 64 67 69 72 73 75], shape=(30,), dtype=int32)\n"
     ]
    }
   ],
   "source": [
    "for sfh_inputs1, sfh_labels1 in train_batches.take(100):\n",
    "  break\n",
    "\n",
    "seq_init = sfh_inputs1[37][0:30]\n",
    "print(seq_init)"
   ]
  },
  {
   "cell_type": "code",
   "execution_count": 429,
   "metadata": {},
   "outputs": [],
   "source": [
    "\n",
    "translator = Translator(transformer, seq_init)"
   ]
  },
  {
   "cell_type": "code",
   "execution_count": 430,
   "metadata": {},
   "outputs": [
    {
     "name": "stdout",
     "output_type": "stream",
     "text": [
      "(30,)\n",
      "tf.Tensor(\n",
      "[[ 0  0  1  1  2  3  4  5  7  9 11 15 19 22 26 31 35 39 43 47 50 55 57 61\n",
      "  64 67 69 72 73 75 78 80 82 83 84 86 87 88 89 90 91 92 93 94 95 96 97 98\n",
      "  99]], shape=(1, 49), dtype=int64)\n"
     ]
    }
   ],
   "source": [
    "output = translator()"
   ]
  },
  {
   "cell_type": "code",
   "execution_count": 431,
   "metadata": {},
   "outputs": [],
   "source": [
    "sequence = output[0].numpy()"
   ]
  },
  {
   "cell_type": "code",
   "execution_count": 432,
   "metadata": {},
   "outputs": [
    {
     "name": "stdout",
     "output_type": "stream",
     "text": [
      "(1, 49)\n",
      "[[ 0  0  1  1  2  3  4  5  7  9 11 15 19 22 26 31 35 39 43 47 50 55 57 61\n",
      "  64 67 69 72 73 75 78 80 82 83 84 86 87 88 89 90 91 92 93 94 95 96 97 98\n",
      "  99]]\n"
     ]
    },
    {
     "data": {
      "image/png": "[encoded data removed]",
      "text/plain": [
       "<Figure size 640x480 with 1 Axes>"
      ]
     },
     "metadata": {},
     "output_type": "display_data"
    }
   ],
   "source": [
    "print(sequence.shape)\n",
    "print(sequence)\n",
    "plt.plot(np.squeeze(sequence))\n",
    "plt.xlabel('Index')\n",
    "plt.ylabel('Value')\n",
    "plt.title('Sequence Plot')\n",
    "plt.grid()\n",
    "plt.show()\n"
   ]
  },
  {
   "cell_type": "code",
   "execution_count": null,
   "metadata": {},
   "outputs": [],
   "source": []
  },
  {
   "cell_type": "code",
   "execution_count": null,
   "metadata": {},
   "outputs": [],
   "source": []
  }
 ],
 "metadata": {
  "colab": {
   "provenance": []
  },
  "kernelspec": {
   "display_name": "tensorflow-gpu-2.11.0_py3.10.8",
   "language": "python",
   "name": "module-conda-env-tensorflow-gpu-2.11.0_py3.10.8"
  },
  "language_info": {
   "codemirror_mode": {
    "name": "ipython",
    "version": 3
   },
   "file_extension": ".py",
   "mimetype": "text/x-python",
   "name": "python",
   "nbconvert_exporter": "python",
   "pygments_lexer": "ipython3",
   "version": "3.10.8"
  }
 },
 "nbformat": 4,
 "nbformat_minor": 4
}