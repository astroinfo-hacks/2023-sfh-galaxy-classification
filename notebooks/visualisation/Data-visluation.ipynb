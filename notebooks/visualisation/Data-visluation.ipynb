{
 "cells": [
  {
   "cell_type": "code",
   "execution_count": 1,
   "id": "01f9dddf-ba03-47d8-8e48-e69473328056",
   "metadata": {},
   "outputs": [],
   "source": [
    "import pandas as pd\n",
    "import matplotlib.pyplot as plt\n",
    "import numpy as np"
   ]
  },
  {
   "cell_type": "code",
   "execution_count": 7,
   "id": "6ceda478-2204-4ec2-a9f2-c7c80f986e55",
   "metadata": {},
   "outputs": [
    {
     "data": {
      "text/html": [
       "<div>\n",
       "<style scoped>\n",
       "    .dataframe tbody tr th:only-of-type {\n",
       "        vertical-align: middle;\n",
       "    }\n",
       "\n",
       "    .dataframe tbody tr th {\n",
       "        vertical-align: top;\n",
       "    }\n",
       "\n",
       "    .dataframe thead th {\n",
       "        text-align: right;\n",
       "    }\n",
       "</style>\n",
       "<table border=\"1\" class=\"dataframe\">\n",
       "  <thead>\n",
       "    <tr style=\"text-align: right;\">\n",
       "      <th></th>\n",
       "      <th>id_L19</th>\n",
       "      <th>z</th>\n",
       "      <th>level_0</th>\n",
       "      <th>level_1</th>\n",
       "      <th>level_2</th>\n",
       "      <th>level_3</th>\n",
       "      <th>level_4</th>\n",
       "      <th>level_5</th>\n",
       "      <th>bins_0</th>\n",
       "      <th>bins_1</th>\n",
       "      <th>bins_2</th>\n",
       "      <th>bins_3</th>\n",
       "      <th>bins_4</th>\n",
       "      <th>bins_5</th>\n",
       "      <th>bins_6</th>\n",
       "    </tr>\n",
       "  </thead>\n",
       "  <tbody>\n",
       "    <tr>\n",
       "      <th>0</th>\n",
       "      <td>1.0</td>\n",
       "      <td>0.999855</td>\n",
       "      <td>0.972084</td>\n",
       "      <td>0.947799</td>\n",
       "      <td>0.614903</td>\n",
       "      <td>0.955118</td>\n",
       "      <td>1.233075</td>\n",
       "      <td>2.105449</td>\n",
       "      <td>0.0</td>\n",
       "      <td>30.0</td>\n",
       "      <td>84.0</td>\n",
       "      <td>236.0</td>\n",
       "      <td>660.0</td>\n",
       "      <td>1850.0</td>\n",
       "      <td>5185.0</td>\n",
       "    </tr>\n",
       "    <tr>\n",
       "      <th>1</th>\n",
       "      <td>2.0</td>\n",
       "      <td>0.999877</td>\n",
       "      <td>0.731829</td>\n",
       "      <td>0.752371</td>\n",
       "      <td>0.696417</td>\n",
       "      <td>0.751243</td>\n",
       "      <td>1.078478</td>\n",
       "      <td>0.461603</td>\n",
       "      <td>0.0</td>\n",
       "      <td>30.0</td>\n",
       "      <td>83.0</td>\n",
       "      <td>230.0</td>\n",
       "      <td>637.0</td>\n",
       "      <td>1766.0</td>\n",
       "      <td>4890.0</td>\n",
       "    </tr>\n",
       "    <tr>\n",
       "      <th>2</th>\n",
       "      <td>3.0</td>\n",
       "      <td>0.999962</td>\n",
       "      <td>0.185444</td>\n",
       "      <td>0.304448</td>\n",
       "      <td>0.257010</td>\n",
       "      <td>0.187302</td>\n",
       "      <td>0.359714</td>\n",
       "      <td>0.173263</td>\n",
       "      <td>0.0</td>\n",
       "      <td>30.0</td>\n",
       "      <td>82.0</td>\n",
       "      <td>224.0</td>\n",
       "      <td>612.0</td>\n",
       "      <td>1672.0</td>\n",
       "      <td>4569.0</td>\n",
       "    </tr>\n",
       "    <tr>\n",
       "      <th>3</th>\n",
       "      <td>4.0</td>\n",
       "      <td>0.999992</td>\n",
       "      <td>0.990093</td>\n",
       "      <td>0.869858</td>\n",
       "      <td>0.864553</td>\n",
       "      <td>1.118764</td>\n",
       "      <td>1.872074</td>\n",
       "      <td>1.487741</td>\n",
       "      <td>0.0</td>\n",
       "      <td>30.0</td>\n",
       "      <td>84.0</td>\n",
       "      <td>233.0</td>\n",
       "      <td>648.0</td>\n",
       "      <td>1806.0</td>\n",
       "      <td>5029.0</td>\n",
       "    </tr>\n",
       "    <tr>\n",
       "      <th>4</th>\n",
       "      <td>5.0</td>\n",
       "      <td>0.999904</td>\n",
       "      <td>0.088227</td>\n",
       "      <td>0.144837</td>\n",
       "      <td>0.085377</td>\n",
       "      <td>0.146562</td>\n",
       "      <td>0.200182</td>\n",
       "      <td>0.251729</td>\n",
       "      <td>0.0</td>\n",
       "      <td>30.0</td>\n",
       "      <td>83.0</td>\n",
       "      <td>231.0</td>\n",
       "      <td>643.0</td>\n",
       "      <td>1785.0</td>\n",
       "      <td>4958.0</td>\n",
       "    </tr>\n",
       "    <tr>\n",
       "      <th>...</th>\n",
       "      <td>...</td>\n",
       "      <td>...</td>\n",
       "      <td>...</td>\n",
       "      <td>...</td>\n",
       "      <td>...</td>\n",
       "      <td>...</td>\n",
       "      <td>...</td>\n",
       "      <td>...</td>\n",
       "      <td>...</td>\n",
       "      <td>...</td>\n",
       "      <td>...</td>\n",
       "      <td>...</td>\n",
       "      <td>...</td>\n",
       "      <td>...</td>\n",
       "      <td>...</td>\n",
       "    </tr>\n",
       "    <tr>\n",
       "      <th>91365</th>\n",
       "      <td>96083.0</td>\n",
       "      <td>0.500094</td>\n",
       "      <td>1.509191</td>\n",
       "      <td>1.262163</td>\n",
       "      <td>1.337424</td>\n",
       "      <td>1.507096</td>\n",
       "      <td>1.308037</td>\n",
       "      <td>1.049182</td>\n",
       "      <td>0.0</td>\n",
       "      <td>30.0</td>\n",
       "      <td>91.0</td>\n",
       "      <td>275.0</td>\n",
       "      <td>834.0</td>\n",
       "      <td>2526.0</td>\n",
       "      <td>7650.0</td>\n",
       "    </tr>\n",
       "    <tr>\n",
       "      <th>91366</th>\n",
       "      <td>96084.0</td>\n",
       "      <td>0.500007</td>\n",
       "      <td>2.395890</td>\n",
       "      <td>2.243730</td>\n",
       "      <td>2.122655</td>\n",
       "      <td>2.285879</td>\n",
       "      <td>4.234761</td>\n",
       "      <td>3.474182</td>\n",
       "      <td>0.0</td>\n",
       "      <td>30.0</td>\n",
       "      <td>91.0</td>\n",
       "      <td>275.0</td>\n",
       "      <td>831.0</td>\n",
       "      <td>2514.0</td>\n",
       "      <td>7608.0</td>\n",
       "    </tr>\n",
       "    <tr>\n",
       "      <th>91367</th>\n",
       "      <td>96085.0</td>\n",
       "      <td>0.500002</td>\n",
       "      <td>0.179870</td>\n",
       "      <td>0.084724</td>\n",
       "      <td>0.224610</td>\n",
       "      <td>0.215622</td>\n",
       "      <td>0.239564</td>\n",
       "      <td>0.385673</td>\n",
       "      <td>0.0</td>\n",
       "      <td>30.0</td>\n",
       "      <td>89.0</td>\n",
       "      <td>265.0</td>\n",
       "      <td>790.0</td>\n",
       "      <td>2349.0</td>\n",
       "      <td>6987.0</td>\n",
       "    </tr>\n",
       "    <tr>\n",
       "      <th>91368</th>\n",
       "      <td>96087.0</td>\n",
       "      <td>0.500022</td>\n",
       "      <td>0.615759</td>\n",
       "      <td>0.523047</td>\n",
       "      <td>0.502196</td>\n",
       "      <td>0.644210</td>\n",
       "      <td>0.672325</td>\n",
       "      <td>1.021520</td>\n",
       "      <td>0.0</td>\n",
       "      <td>30.0</td>\n",
       "      <td>88.0</td>\n",
       "      <td>257.0</td>\n",
       "      <td>751.0</td>\n",
       "      <td>2198.0</td>\n",
       "      <td>6429.0</td>\n",
       "    </tr>\n",
       "    <tr>\n",
       "      <th>91369</th>\n",
       "      <td>96088.0</td>\n",
       "      <td>0.500003</td>\n",
       "      <td>0.760356</td>\n",
       "      <td>0.201590</td>\n",
       "      <td>0.621410</td>\n",
       "      <td>0.547846</td>\n",
       "      <td>0.761494</td>\n",
       "      <td>1.856980</td>\n",
       "      <td>0.0</td>\n",
       "      <td>30.0</td>\n",
       "      <td>91.0</td>\n",
       "      <td>275.0</td>\n",
       "      <td>832.0</td>\n",
       "      <td>2520.0</td>\n",
       "      <td>7628.0</td>\n",
       "    </tr>\n",
       "  </tbody>\n",
       "</table>\n",
       "<p>91370 rows × 15 columns</p>\n",
       "</div>"
      ],
      "text/plain": [
       "        id_L19         z   level_0   level_1   level_2   level_3   level_4  \\\n",
       "0          1.0  0.999855  0.972084  0.947799  0.614903  0.955118  1.233075   \n",
       "1          2.0  0.999877  0.731829  0.752371  0.696417  0.751243  1.078478   \n",
       "2          3.0  0.999962  0.185444  0.304448  0.257010  0.187302  0.359714   \n",
       "3          4.0  0.999992  0.990093  0.869858  0.864553  1.118764  1.872074   \n",
       "4          5.0  0.999904  0.088227  0.144837  0.085377  0.146562  0.200182   \n",
       "...        ...       ...       ...       ...       ...       ...       ...   \n",
       "91365  96083.0  0.500094  1.509191  1.262163  1.337424  1.507096  1.308037   \n",
       "91366  96084.0  0.500007  2.395890  2.243730  2.122655  2.285879  4.234761   \n",
       "91367  96085.0  0.500002  0.179870  0.084724  0.224610  0.215622  0.239564   \n",
       "91368  96087.0  0.500022  0.615759  0.523047  0.502196  0.644210  0.672325   \n",
       "91369  96088.0  0.500003  0.760356  0.201590  0.621410  0.547846  0.761494   \n",
       "\n",
       "        level_5  bins_0  bins_1  bins_2  bins_3  bins_4  bins_5  bins_6  \n",
       "0      2.105449     0.0    30.0    84.0   236.0   660.0  1850.0  5185.0  \n",
       "1      0.461603     0.0    30.0    83.0   230.0   637.0  1766.0  4890.0  \n",
       "2      0.173263     0.0    30.0    82.0   224.0   612.0  1672.0  4569.0  \n",
       "3      1.487741     0.0    30.0    84.0   233.0   648.0  1806.0  5029.0  \n",
       "4      0.251729     0.0    30.0    83.0   231.0   643.0  1785.0  4958.0  \n",
       "...         ...     ...     ...     ...     ...     ...     ...     ...  \n",
       "91365  1.049182     0.0    30.0    91.0   275.0   834.0  2526.0  7650.0  \n",
       "91366  3.474182     0.0    30.0    91.0   275.0   831.0  2514.0  7608.0  \n",
       "91367  0.385673     0.0    30.0    89.0   265.0   790.0  2349.0  6987.0  \n",
       "91368  1.021520     0.0    30.0    88.0   257.0   751.0  2198.0  6429.0  \n",
       "91369  1.856980     0.0    30.0    91.0   275.0   832.0  2520.0  7628.0  \n",
       "\n",
       "[91370 rows x 15 columns]"
      ]
     },
     "execution_count": 7,
     "metadata": {},
     "output_type": "execute_result"
    }
   ],
   "source": [
    "df=pd.read_csv('data/binned_SFHs-7levels-JWST_z_0.5-1.0.txt',sep='\\t')\n",
    "df"
   ]
  },
  {
   "cell_type": "code",
   "execution_count": 8,
   "id": "efb7c26b-1892-4bf8-b44d-ee528454cae2",
   "metadata": {},
   "outputs": [
    {
     "data": {
      "text/plain": [
       "(Index(['level_0', 'level_1', 'level_2', 'level_3', 'level_4', 'level_5'], dtype='object'),\n",
       " Index(['bins_0', 'bins_1', 'bins_2', 'bins_3', 'bins_4', 'bins_5', 'bins_6'], dtype='object'))"
      ]
     },
     "execution_count": 8,
     "metadata": {},
     "output_type": "execute_result"
    }
   ],
   "source": [
    "levels=df.columns[2:8]\n",
    "bins=df.columns[8:]\n",
    "levels,bins"
   ]
  },
  {
   "cell_type": "code",
   "execution_count": 9,
   "id": "43ed2288-9d23-46d4-802c-a4cf558be00a",
   "metadata": {},
   "outputs": [],
   "source": [
    "SFH_lev=df[levels].values\n",
    "SFH_bin=df[bins].values"
   ]
  },
  {
   "cell_type": "code",
   "execution_count": 11,
   "id": "c4580c5c-a47f-4ce5-9e2b-502d672492ad",
   "metadata": {},
   "outputs": [
    {
     "data": {
      "image/png": "[encoded data removed]",
      "text/plain": [
       "<Figure size 432x288 with 1 Axes>"
      ]
     },
     "metadata": {
      "needs_background": "light"
     },
     "output_type": "display_data"
    },
    {
     "data": {
      "image/png": "[encoded data removed]",
      "text/plain": [
       "<Figure size 432x288 with 1 Axes>"
      ]
     },
     "metadata": {
      "needs_background": "light"
     },
     "output_type": "display_data"
    },
    {
     "data": {
      "image/png": "[encoded data removed]",
      "text/plain": [
       "<Figure size 432x288 with 1 Axes>"
      ]
     },
     "metadata": {
      "needs_background": "light"
     },
     "output_type": "display_data"
    },
    {
     "data": {
      "image/png": "[encoded data removed]",
      "text/plain": [
       "<Figure size 432x288 with 1 Axes>"
      ]
     },
     "metadata": {
      "needs_background": "light"
     },
     "output_type": "display_data"
    },
    {
     "data": {
      "image/png": "[encoded data removed]",
      "text/plain": [
       "<Figure size 432x288 with 1 Axes>"
      ]
     },
     "metadata": {
      "needs_background": "light"
     },
     "output_type": "display_data"
    },
    {
     "data": {
      "image/png": "[encoded data removed]",
      "text/plain": [
       "<Figure size 432x288 with 1 Axes>"
      ]
     },
     "metadata": {
      "needs_background": "light"
     },
     "output_type": "display_data"
    },
    {
     "data": {
      "image/png": "[encoded data removed]",
      "text/plain": [
       "<Figure size 432x288 with 1 Axes>"
      ]
     },
     "metadata": {
      "needs_background": "light"
     },
     "output_type": "display_data"
    },
    {
     "data": {
      "image/png": "[encoded data removed]",
      "text/plain": [
       "<Figure size 432x288 with 1 Axes>"
      ]
     },
     "metadata": {
      "needs_background": "light"
     },
     "output_type": "display_data"
    },
    {
     "data": {
      "image/png": "[encoded data removed]",
      "text/plain": [
       "<Figure size 432x288 with 1 Axes>"
      ]
     },
     "metadata": {
      "needs_background": "light"
     },
     "output_type": "display_data"
    },
    {
     "data": {
      "image/png": "[encoded data removed]",
      "text/plain": [
       "<Figure size 432x288 with 1 Axes>"
      ]
     },
     "metadata": {
      "needs_background": "light"
     },
     "output_type": "display_data"
    }
   ],
   "source": [
    "for i in np.random.randint(0,91370,10):\n",
    "    plt.semilogx()\n",
    "    plt.hlines(SFH_lev[i],SFH_bin[i][:-1],SFH_bin[i][1:],'r')\n",
    "    plt.vlines(SFH_bin[i][1:-1],SFH_lev[i][:-1],SFH_lev[i][1:],'r')\n",
    "    plt.xlim(10,9000)\n",
    "    plt.xlabel(r'Lookback time [Myrs]')\n",
    "    plt.ylabel(r'Norm SFR [--]')\n",
    "    plt.show()"
   ]
  },
  {
   "cell_type": "code",
   "execution_count": null,
   "id": "7de162a9-883e-4fa1-aaaf-6ea2ffe673f8",
   "metadata": {},
   "outputs": [],
   "source": []
  }
 ],
 "metadata": {
  "kernelspec": {
   "display_name": "Python 3",
   "language": "python",
   "name": "python3"
  },
  "language_info": {
   "codemirror_mode": {
    "name": "ipython",
    "version": 3
   },
   "file_extension": ".py",
   "mimetype": "text/x-python",
   "name": "python",
   "nbconvert_exporter": "python",
   "pygments_lexer": "ipython3",
   "version": "3.9.16"
  }
 },
 "nbformat": 4,
 "nbformat_minor": 5
}
